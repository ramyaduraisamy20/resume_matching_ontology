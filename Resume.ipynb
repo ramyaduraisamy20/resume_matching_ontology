{
 "cells": [
  {
   "cell_type": "code",
   "execution_count": 14,
   "id": "b1e6cc20-60b2-4b48-bf56-9c9159d8a441",
   "metadata": {},
   "outputs": [],
   "source": [
    "#impor the necessary libraries.Download the package using Anaconda Navigator. Then import the spacy turning on.\n",
    "import spacy"
   ]
  },
  {
   "cell_type": "code",
   "execution_count": 15,
   "id": "ebb9c927-5079-454f-934d-f748508789fb",
   "metadata": {},
   "outputs": [],
   "source": [
    "#use a variable as model_1 to store the english pipeline which consists of vocabularies, synatx and entities.\n",
    "model_1 = spacy.load(\"en_core_web_sm\")"
   ]
  },
  {
   "cell_type": "code",
   "execution_count": 31,
   "id": "299d08e1-d789-47c5-9282-89ca99155d7c",
   "metadata": {},
   "outputs": [],
   "source": [
    "#These are the few queries \n",
    "#q1 = \"All   avaialable Job_description\"\n",
    "#q1= \"Person and their Skills\"\n",
    "#q1 = \"Person with Education\"\n",
    "#q1 = \"Job_description\"\n",
    "q1 = \"What are the require_skills for each Job_description\""
   ]
  },
  {
   "cell_type": "code",
   "execution_count": 32,
   "id": "03015348-87b6-4bf0-a4c2-0ad426434d50",
   "metadata": {},
   "outputs": [
    {
     "name": "stdout",
     "output_type": "stream",
     "text": [
      "what be the require_skill for each job_description \n",
      "['Require_skill', 'Job_description']\n",
      "[]\n",
      "[]\n"
     ]
    }
   ],
   "source": [
    "#In this step, query normalisation which is generally done to make the test useful by removing all the space, \n",
    "#stop word, punctuation. \n",
    "ind_1 = []\n",
    "class_1 =[]\n",
    "properties_1 = []\n",
    "\n",
    "document = model_1(q1)\n",
    "basicq = \"\"\n",
    "for token in document:\n",
    "    if not token.is_space:\n",
    "        basicq += token.lemma_+\" \"\n",
    "    elif not token.is_punct:\n",
    "        basicq += token.lemma_+\" \"\n",
    "    elif not token.is_stop:\n",
    "        basicq += token.lemma_+\" \"\n",
    "        \n",
    "    if token.pos_ == \"NOUN\" or token.pos_ == \"PROPN\":\n",
    "        class_1.append(str(token.lemma_).capitalize())\n",
    "    if token.pos_ == \"VERB\":\n",
    "        properties_1.append(str(token.lemma_).capitalize())\n",
    "\n",
    "for token in document.ents:\n",
    "    ind_1.append(str(token.lemma_).capitalize())\n",
    "    \n",
    "print(basicq)\n",
    "print(class_1)\n",
    "print(properties_1)\n",
    "print(ind_1)\n"
   ]
  },
  {
   "cell_type": "code",
   "execution_count": 33,
   "id": "ac47053c-5abf-4685-9425-14034e048e36",
   "metadata": {},
   "outputs": [],
   "source": [
    "#The start of the query and end of query are defined in th\n",
    "querystart = \"\"\"\n",
    "PREFIX resume:<http://www.semanticweb.org/ramya/ontologies/2023/11/majorproject#>\n",
    "SELECT  *\n",
    "WHERE{\n",
    "\"\"\"\n",
    "queryend = \"}\""
   ]
  },
  {
   "cell_type": "code",
   "execution_count": 34,
   "id": "b2defe58-f6ca-44fe-b2f9-99891360ec91",
   "metadata": {},
   "outputs": [
    {
     "name": "stdout",
     "output_type": "stream",
     "text": [
      "OPTIONAL{?Require_skillClass  a resume:Require_skill}.\n",
      "OPTIONAL{?Job_descriptionClass  a resume:Job_description}.\n",
      "\n"
     ]
    }
   ],
   "source": [
    "#Triples are in the format of a subject, predicate and object.\n",
    "#For example ?Job_description resume:require_skills ?required_skill.(Job_description requires skills)\n",
    "triples = \"\"\n",
    "\n",
    "for element in class_1:\n",
    "    triples += \"OPTIONAL{?\"+element+\"Class  a resume:\" + element + \"}.\\n\"\n",
    "print(triples)"
   ]
  },
  {
   "cell_type": "code",
   "execution_count": 35,
   "id": "1fa3438a-cf0a-4feb-931f-c0da57d93f3f",
   "metadata": {},
   "outputs": [
    {
     "name": "stdout",
     "output_type": "stream",
     "text": [
      "\n",
      "PREFIX resume:<http://www.semanticweb.org/ramya/ontologies/2023/11/majorproject#>\n",
      "SELECT  *\n",
      "WHERE{\n",
      "OPTIONAL{?Require_skillClass  a resume:Require_skill}.\n",
      "OPTIONAL{?Job_descriptionClass  a resume:Job_description}.\n",
      "}\n",
      "Job_descriptionClass\thttp://www.semanticweb.org/ramya/ontologies/2023/11/majorproject#jd28\t\n",
      "\n",
      "http://www.semanticweb.org/ramya/ontologies/2023/11/majorproject#jd29\t\n",
      "\n",
      "http://www.semanticweb.org/ramya/ontologies/2023/11/majorproject#jd21\t\n",
      "\n",
      "http://www.semanticweb.org/ramya/ontologies/2023/11/majorproject#jd13\t\n",
      "\n",
      "http://www.semanticweb.org/ramya/ontologies/2023/11/majorproject#jd6\t\n",
      "\n",
      "http://www.semanticweb.org/ramya/ontologies/2023/11/majorproject#jd16\t\n",
      "\n",
      "http://www.semanticweb.org/ramya/ontologies/2023/11/majorproject#jd22\t\n",
      "\n",
      "http://www.semanticweb.org/ramya/ontologies/2023/11/majorproject#jd5\t\n",
      "\n",
      "http://www.semanticweb.org/ramya/ontologies/2023/11/majorproject#jd27\t\n",
      "\n",
      "http://www.semanticweb.org/ramya/ontologies/2023/11/majorproject#jd17\t\n",
      "\n",
      "http://www.semanticweb.org/ramya/ontologies/2023/11/majorproject#jd2\t\n",
      "\n",
      "http://www.semanticweb.org/ramya/ontologies/2023/11/majorproject#jd20\t\n",
      "\n",
      "http://www.semanticweb.org/ramya/ontologies/2023/11/majorproject#jd18\t\n",
      "\n",
      "http://www.semanticweb.org/ramya/ontologies/2023/11/majorproject#jd15\t\n",
      "\n",
      "http://www.semanticweb.org/ramya/ontologies/2023/11/majorproject#jd4\t\n",
      "\n",
      "http://www.semanticweb.org/ramya/ontologies/2023/11/majorproject#jd23\t\n",
      "\n",
      "http://www.semanticweb.org/ramya/ontologies/2023/11/majorproject#jd7\t\n",
      "\n",
      "http://www.semanticweb.org/ramya/ontologies/2023/11/majorproject#jd24\t\n",
      "\n",
      "http://www.semanticweb.org/ramya/ontologies/2023/11/majorproject#jd19\t\n",
      "\n",
      "http://www.semanticweb.org/ramya/ontologies/2023/11/majorproject#jd25\t\n",
      "\n",
      "http://www.semanticweb.org/ramya/ontologies/2023/11/majorproject#jd11\t\n",
      "\n",
      "http://www.semanticweb.org/ramya/ontologies/2023/11/majorproject#jd26\t\n",
      "\n",
      "http://www.semanticweb.org/ramya/ontologies/2023/11/majorproject#jd3\t\n",
      "\n",
      "http://www.semanticweb.org/ramya/ontologies/2023/11/majorproject#jd14\t\n",
      "\n",
      "http://www.semanticweb.org/ramya/ontologies/2023/11/majorproject#jd1\t\n",
      "\n",
      "http://www.semanticweb.org/ramya/ontologies/2023/11/majorproject#jd9\t\n",
      "\n",
      "http://www.semanticweb.org/ramya/ontologies/2023/11/majorproject#jd12\t\n",
      "\n",
      "http://www.semanticweb.org/ramya/ontologies/2023/11/majorproject#jd8\t\n",
      "\n"
     ]
    }
   ],
   "source": [
    "#Here a connection is made with the use of SPARQLWrapper.\n",
    "from SPARQLWrapper import SPARQLWrapper2\n",
    "#using the Sparql variable , the ontology host's gets connected.\n",
    "Sparql = SPARQLWrapper2(\"http://localhost:3030/majorproject\")\n",
    "#The foramt of a sparqlqueries get saved in the variable q.\n",
    "q = querystart+triples+queryend\n",
    "#printing the q\n",
    "print(q)\n",
    "\n",
    "Sparql.setQuery(q)\n",
    "results= Sparql.query().bindings\n",
    "#Based on keys and record in the queries, it will get displayed.\n",
    "if len(results)>= 1:\n",
    "    for k in results[0]:\n",
    "            print(k,end=\"\\t\")\n",
    "    \n",
    "    for r in results:\n",
    "        for k in r:\n",
    "            print(r[k].value,end=\"\\t\")\n",
    "        print(\"\\n\")\n",
    "else:\n",
    "    print(\"No Output is returned\")"
   ]
  },
  {
   "cell_type": "code",
   "execution_count": null,
   "id": "9e1761ac",
   "metadata": {},
   "outputs": [],
   "source": []
  }
 ],
 "metadata": {
  "kernelspec": {
   "display_name": "Python 3 (ipykernel)",
   "language": "python",
   "name": "python3"
  },
  "language_info": {
   "codemirror_mode": {
    "name": "ipython",
    "version": 3
   },
   "file_extension": ".py",
   "mimetype": "text/x-python",
   "name": "python",
   "nbconvert_exporter": "python",
   "pygments_lexer": "ipython3",
   "version": "3.10.9"
  }
 },
 "nbformat": 4,
 "nbformat_minor": 5
}
